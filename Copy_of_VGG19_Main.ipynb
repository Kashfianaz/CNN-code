{
  "cells": [
    {
      "cell_type": "markdown",
      "metadata": {
        "id": "view-in-github",
        "colab_type": "text"
      },
      "source": [
        "<a href=\"https://colab.research.google.com/github/Kashfianaz/CNN-code/blob/main/Copy_of_VGG19_Main.ipynb\" target=\"_parent\"><img src=\"https://colab.research.google.com/assets/colab-badge.svg\" alt=\"Open In Colab\"/></a>"
      ]
    },
    {
      "cell_type": "code",
      "execution_count": null,
      "metadata": {
        "colab": {
          "base_uri": "https://localhost:8080/"
        },
        "id": "L9mUdKM6nHdD",
        "outputId": "359f8f4f-f6de-41b3-a718-112205d53d00"
      },
      "outputs": [
        {
          "output_type": "stream",
          "name": "stdout",
          "text": [
            "Requirement already satisfied: tensorflow in /usr/local/lib/python3.10/dist-packages (2.12.0)\n",
            "Requirement already satisfied: absl-py>=1.0.0 in /usr/local/lib/python3.10/dist-packages (from tensorflow) (1.4.0)\n",
            "Requirement already satisfied: astunparse>=1.6.0 in /usr/local/lib/python3.10/dist-packages (from tensorflow) (1.6.3)\n",
            "Requirement already satisfied: flatbuffers>=2.0 in /usr/local/lib/python3.10/dist-packages (from tensorflow) (23.5.26)\n",
            "Requirement already satisfied: gast<=0.4.0,>=0.2.1 in /usr/local/lib/python3.10/dist-packages (from tensorflow) (0.4.0)\n",
            "Requirement already satisfied: google-pasta>=0.1.1 in /usr/local/lib/python3.10/dist-packages (from tensorflow) (0.2.0)\n",
            "Requirement already satisfied: grpcio<2.0,>=1.24.3 in /usr/local/lib/python3.10/dist-packages (from tensorflow) (1.56.0)\n",
            "Requirement already satisfied: h5py>=2.9.0 in /usr/local/lib/python3.10/dist-packages (from tensorflow) (3.8.0)\n",
            "Requirement already satisfied: jax>=0.3.15 in /usr/local/lib/python3.10/dist-packages (from tensorflow) (0.4.13)\n",
            "Requirement already satisfied: keras<2.13,>=2.12.0 in /usr/local/lib/python3.10/dist-packages (from tensorflow) (2.12.0)\n",
            "Requirement already satisfied: libclang>=13.0.0 in /usr/local/lib/python3.10/dist-packages (from tensorflow) (16.0.6)\n",
            "Requirement already satisfied: numpy<1.24,>=1.22 in /usr/local/lib/python3.10/dist-packages (from tensorflow) (1.22.4)\n",
            "Requirement already satisfied: opt-einsum>=2.3.2 in /usr/local/lib/python3.10/dist-packages (from tensorflow) (3.3.0)\n",
            "Requirement already satisfied: packaging in /usr/local/lib/python3.10/dist-packages (from tensorflow) (23.1)\n",
            "Requirement already satisfied: protobuf!=4.21.0,!=4.21.1,!=4.21.2,!=4.21.3,!=4.21.4,!=4.21.5,<5.0.0dev,>=3.20.3 in /usr/local/lib/python3.10/dist-packages (from tensorflow) (3.20.3)\n",
            "Requirement already satisfied: setuptools in /usr/local/lib/python3.10/dist-packages (from tensorflow) (67.7.2)\n",
            "Requirement already satisfied: six>=1.12.0 in /usr/local/lib/python3.10/dist-packages (from tensorflow) (1.16.0)\n",
            "Requirement already satisfied: tensorboard<2.13,>=2.12 in /usr/local/lib/python3.10/dist-packages (from tensorflow) (2.12.3)\n",
            "Requirement already satisfied: tensorflow-estimator<2.13,>=2.12.0 in /usr/local/lib/python3.10/dist-packages (from tensorflow) (2.12.0)\n",
            "Requirement already satisfied: termcolor>=1.1.0 in /usr/local/lib/python3.10/dist-packages (from tensorflow) (2.3.0)\n",
            "Requirement already satisfied: typing-extensions>=3.6.6 in /usr/local/lib/python3.10/dist-packages (from tensorflow) (4.7.1)\n",
            "Requirement already satisfied: wrapt<1.15,>=1.11.0 in /usr/local/lib/python3.10/dist-packages (from tensorflow) (1.14.1)\n",
            "Requirement already satisfied: tensorflow-io-gcs-filesystem>=0.23.1 in /usr/local/lib/python3.10/dist-packages (from tensorflow) (0.32.0)\n",
            "Requirement already satisfied: wheel<1.0,>=0.23.0 in /usr/local/lib/python3.10/dist-packages (from astunparse>=1.6.0->tensorflow) (0.40.0)\n",
            "Requirement already satisfied: ml-dtypes>=0.1.0 in /usr/local/lib/python3.10/dist-packages (from jax>=0.3.15->tensorflow) (0.2.0)\n",
            "Requirement already satisfied: scipy>=1.7 in /usr/local/lib/python3.10/dist-packages (from jax>=0.3.15->tensorflow) (1.10.1)\n",
            "Requirement already satisfied: google-auth<3,>=1.6.3 in /usr/local/lib/python3.10/dist-packages (from tensorboard<2.13,>=2.12->tensorflow) (2.17.3)\n",
            "Requirement already satisfied: google-auth-oauthlib<1.1,>=0.5 in /usr/local/lib/python3.10/dist-packages (from tensorboard<2.13,>=2.12->tensorflow) (1.0.0)\n",
            "Requirement already satisfied: markdown>=2.6.8 in /usr/local/lib/python3.10/dist-packages (from tensorboard<2.13,>=2.12->tensorflow) (3.4.3)\n",
            "Requirement already satisfied: requests<3,>=2.21.0 in /usr/local/lib/python3.10/dist-packages (from tensorboard<2.13,>=2.12->tensorflow) (2.27.1)\n",
            "Requirement already satisfied: tensorboard-data-server<0.8.0,>=0.7.0 in /usr/local/lib/python3.10/dist-packages (from tensorboard<2.13,>=2.12->tensorflow) (0.7.1)\n",
            "Requirement already satisfied: werkzeug>=1.0.1 in /usr/local/lib/python3.10/dist-packages (from tensorboard<2.13,>=2.12->tensorflow) (2.3.6)\n",
            "Requirement already satisfied: cachetools<6.0,>=2.0.0 in /usr/local/lib/python3.10/dist-packages (from google-auth<3,>=1.6.3->tensorboard<2.13,>=2.12->tensorflow) (5.3.1)\n",
            "Requirement already satisfied: pyasn1-modules>=0.2.1 in /usr/local/lib/python3.10/dist-packages (from google-auth<3,>=1.6.3->tensorboard<2.13,>=2.12->tensorflow) (0.3.0)\n",
            "Requirement already satisfied: rsa<5,>=3.1.4 in /usr/local/lib/python3.10/dist-packages (from google-auth<3,>=1.6.3->tensorboard<2.13,>=2.12->tensorflow) (4.9)\n",
            "Requirement already satisfied: requests-oauthlib>=0.7.0 in /usr/local/lib/python3.10/dist-packages (from google-auth-oauthlib<1.1,>=0.5->tensorboard<2.13,>=2.12->tensorflow) (1.3.1)\n",
            "Requirement already satisfied: urllib3<1.27,>=1.21.1 in /usr/local/lib/python3.10/dist-packages (from requests<3,>=2.21.0->tensorboard<2.13,>=2.12->tensorflow) (1.26.16)\n",
            "Requirement already satisfied: certifi>=2017.4.17 in /usr/local/lib/python3.10/dist-packages (from requests<3,>=2.21.0->tensorboard<2.13,>=2.12->tensorflow) (2023.5.7)\n",
            "Requirement already satisfied: charset-normalizer~=2.0.0 in /usr/local/lib/python3.10/dist-packages (from requests<3,>=2.21.0->tensorboard<2.13,>=2.12->tensorflow) (2.0.12)\n",
            "Requirement already satisfied: idna<4,>=2.5 in /usr/local/lib/python3.10/dist-packages (from requests<3,>=2.21.0->tensorboard<2.13,>=2.12->tensorflow) (3.4)\n",
            "Requirement already satisfied: MarkupSafe>=2.1.1 in /usr/local/lib/python3.10/dist-packages (from werkzeug>=1.0.1->tensorboard<2.13,>=2.12->tensorflow) (2.1.3)\n",
            "Requirement already satisfied: pyasn1<0.6.0,>=0.4.6 in /usr/local/lib/python3.10/dist-packages (from pyasn1-modules>=0.2.1->google-auth<3,>=1.6.3->tensorboard<2.13,>=2.12->tensorflow) (0.5.0)\n",
            "Requirement already satisfied: oauthlib>=3.0.0 in /usr/local/lib/python3.10/dist-packages (from requests-oauthlib>=0.7.0->google-auth-oauthlib<1.1,>=0.5->tensorboard<2.13,>=2.12->tensorflow) (3.2.2)\n"
          ]
        }
      ],
      "source": [
        "!pip install tensorflow"
      ]
    },
    {
      "cell_type": "code",
      "execution_count": null,
      "metadata": {
        "id": "k04GrjEUnTv6"
      },
      "outputs": [],
      "source": [
        "%matplotlib inline"
      ]
    },
    {
      "cell_type": "code",
      "execution_count": null,
      "metadata": {
        "id": "rNFeGISrnXjo"
      },
      "outputs": [],
      "source": [
        "# To download checkpoints, Keras models, TFLite models\n",
        "from google.colab import files\n",
        "\n",
        "# Life is incomplete without this statement!\n",
        "import tensorflow as tf\n",
        "\n",
        "# And this as well!\n",
        "import numpy as np\n",
        "\n",
        "import matplotlib\n",
        "\n",
        "\n",
        "\n",
        "# To visualize results\n",
        "import matplotlib.pyplot as plt\n",
        "\n",
        "import os\n",
        "import datetime"
      ]
    },
    {
      "cell_type": "code",
      "execution_count": null,
      "metadata": {
        "colab": {
          "base_uri": "https://localhost:8080/"
        },
        "id": "M0wdZPwina83",
        "outputId": "e4cd1fc8-a12d-4e41-9ca6-543a39151e19"
      },
      "outputs": [
        {
          "output_type": "stream",
          "name": "stdout",
          "text": [
            "Requirement already satisfied: keras in /usr/local/lib/python3.10/dist-packages (2.12.0)\n",
            "Requirement already satisfied: numpy in /usr/local/lib/python3.10/dist-packages (1.22.4)\n",
            "Requirement already satisfied: matplotlib in /usr/local/lib/python3.10/dist-packages (3.7.1)\n",
            "Collecting mnist\n",
            "  Downloading mnist-0.2.2-py2.py3-none-any.whl (3.5 kB)\n",
            "Requirement already satisfied: contourpy>=1.0.1 in /usr/local/lib/python3.10/dist-packages (from matplotlib) (1.1.0)\n",
            "Requirement already satisfied: cycler>=0.10 in /usr/local/lib/python3.10/dist-packages (from matplotlib) (0.11.0)\n",
            "Requirement already satisfied: fonttools>=4.22.0 in /usr/local/lib/python3.10/dist-packages (from matplotlib) (4.41.0)\n",
            "Requirement already satisfied: kiwisolver>=1.0.1 in /usr/local/lib/python3.10/dist-packages (from matplotlib) (1.4.4)\n",
            "Requirement already satisfied: packaging>=20.0 in /usr/local/lib/python3.10/dist-packages (from matplotlib) (23.1)\n",
            "Requirement already satisfied: pillow>=6.2.0 in /usr/local/lib/python3.10/dist-packages (from matplotlib) (8.4.0)\n",
            "Requirement already satisfied: pyparsing>=2.3.1 in /usr/local/lib/python3.10/dist-packages (from matplotlib) (3.1.0)\n",
            "Requirement already satisfied: python-dateutil>=2.7 in /usr/local/lib/python3.10/dist-packages (from matplotlib) (2.8.2)\n",
            "Requirement already satisfied: six>=1.5 in /usr/local/lib/python3.10/dist-packages (from python-dateutil>=2.7->matplotlib) (1.16.0)\n",
            "Installing collected packages: mnist\n",
            "Successfully installed mnist-0.2.2\n"
          ]
        }
      ],
      "source": [
        "! pip install keras numpy matplotlib mnist"
      ]
    },
    {
      "cell_type": "code",
      "execution_count": null,
      "metadata": {
        "id": "xH_YaBrynfKo"
      },
      "outputs": [],
      "source": [
        "import pandas as pd"
      ]
    },
    {
      "cell_type": "code",
      "execution_count": null,
      "metadata": {
        "id": "MtRybVABniY3"
      },
      "outputs": [],
      "source": [
        "matplotlib.style.use('ggplot')"
      ]
    },
    {
      "cell_type": "code",
      "execution_count": null,
      "metadata": {
        "id": "p7q-1YUrnoPm"
      },
      "outputs": [],
      "source": [
        "from keras.layers import Input, Dense,Flatten, Conv2D, MaxPooling2D\n",
        "from keras.models import Model"
      ]
    },
    {
      "cell_type": "code",
      "execution_count": null,
      "metadata": {
        "id": "zjngoIe5nsVm"
      },
      "outputs": [],
      "source": [
        "from tensorflow.compat.v1 import ConfigProto\n",
        "from tensorflow.compat.v1 import InteractiveSession\n",
        "\n",
        "config = ConfigProto()\n",
        "config.gpu_options.per_process_gpu_memory_fraction = 0.5\n",
        "config.gpu_options.allow_growth = True\n",
        "session = InteractiveSession(config=config)"
      ]
    },
    {
      "cell_type": "code",
      "execution_count": null,
      "metadata": {
        "colab": {
          "base_uri": "https://localhost:8080/"
        },
        "id": "YsgKXPJMntjL",
        "outputId": "988c105e-cac6-4814-f01d-f76883036081"
      },
      "outputs": [
        {
          "output_type": "stream",
          "name": "stderr",
          "text": [
            "/usr/local/lib/python3.10/dist-packages/tensorflow/python/client/session.py:1769: UserWarning: An interactive session is already active. This can cause out-of-memory errors in some cases. You must explicitly call `InteractiveSession.close()` to release resources held by the other session(s).\n",
            "  warnings.warn('An interactive session is already active. This can '\n"
          ]
        }
      ],
      "source": [
        "from tensorflow.compat.v1 import ConfigProto\n",
        "from tensorflow.compat.v1 import InteractiveSession\n",
        "\n",
        "config = ConfigProto()\n",
        "config.gpu_options.per_process_gpu_memory_fraction = 0.5\n",
        "config.gpu_options.allow_growth = True\n",
        "session = InteractiveSession(config=config)"
      ]
    },
    {
      "cell_type": "code",
      "execution_count": null,
      "metadata": {
        "id": "_d2_6QYOnw-M"
      },
      "outputs": [],
      "source": [
        "from tensorflow.keras.layers import Input, Lambda, Dense, Flatten\n",
        "from tensorflow.keras.models import Model\n",
        "from tensorflow.keras.applications.inception_v3 import InceptionV3\n",
        "from tensorflow.keras.applications.inception_v3 import preprocess_input\n",
        "from tensorflow.keras.preprocessing import image\n",
        "from tensorflow.keras.preprocessing.image import ImageDataGenerator,load_img\n",
        "from tensorflow.keras.models import Sequential\n",
        "import matplotlib.pyplot as plt\n",
        "import matplotlib.image as mpimg\n",
        "from keras.layers import Dense, GlobalAveragePooling2D\n",
        "import matplotlib.pyplot as plt\n",
        "import numpy as np\n",
        "from glob import glob"
      ]
    },
    {
      "cell_type": "code",
      "execution_count": null,
      "metadata": {
        "colab": {
          "base_uri": "https://localhost:8080/"
        },
        "id": "iBRA7WKan3Dx",
        "outputId": "1f1df96f-bf0e-4068-a17a-8599c862320f"
      },
      "outputs": [
        {
          "output_type": "stream",
          "name": "stdout",
          "text": [
            "Mounted at /content/drive\n"
          ]
        }
      ],
      "source": [
        "from google.colab import drive\n",
        "drive.mount('/content/drive')"
      ]
    },
    {
      "cell_type": "code",
      "execution_count": null,
      "metadata": {
        "id": "h2nF3QiLn4ls"
      },
      "outputs": [],
      "source": [
        "IMAGE_SIZE = [224, 224]"
      ]
    },
    {
      "cell_type": "code",
      "execution_count": null,
      "metadata": {
        "colab": {
          "base_uri": "https://localhost:8080/"
        },
        "id": "h-Y_X_5hoDVc",
        "outputId": "bf1afaf7-f717-4a54-9941-783dd29cba3a"
      },
      "outputs": [
        {
          "output_type": "stream",
          "name": "stdout",
          "text": [
            "Downloading data from https://storage.googleapis.com/tensorflow/keras-applications/vgg19/vgg19_weights_tf_dim_ordering_tf_kernels_notop.h5\n",
            "80134624/80134624 [==============================] - 1s 0us/step\n"
          ]
        }
      ],
      "source": [
        "from tensorflow.keras.applications.vgg19 import VGG19\n",
        "model_VGG19 = VGG19(weights=\"imagenet\",include_top = False, input_shape=IMAGE_SIZE + [3],)"
      ]
    },
    {
      "cell_type": "code",
      "execution_count": null,
      "metadata": {
        "id": "vwMYRkcIoGyA"
      },
      "outputs": [],
      "source": [
        "for layer in model_VGG19.layers:\n",
        "    layer.trainable = False"
      ]
    },
    {
      "cell_type": "code",
      "execution_count": null,
      "metadata": {
        "id": "lKmJAGbKoPXn"
      },
      "outputs": [],
      "source": [
        "x = Flatten()(model_VGG19.output)"
      ]
    },
    {
      "cell_type": "code",
      "execution_count": null,
      "metadata": {
        "colab": {
          "base_uri": "https://localhost:8080/"
        },
        "id": "Fhxd75dRoS_i",
        "outputId": "b3c22272-661a-4a6b-acf1-468549426a04"
      },
      "outputs": [
        {
          "output_type": "stream",
          "name": "stdout",
          "text": [
            "Model: \"model\"\n",
            "_________________________________________________________________\n",
            " Layer (type)                Output Shape              Param #   \n",
            "=================================================================\n",
            " input_1 (InputLayer)        [(None, 224, 224, 3)]     0         \n",
            "                                                                 \n",
            " block1_conv1 (Conv2D)       (None, 224, 224, 64)      1792      \n",
            "                                                                 \n",
            " block1_conv2 (Conv2D)       (None, 224, 224, 64)      36928     \n",
            "                                                                 \n",
            " block1_pool (MaxPooling2D)  (None, 112, 112, 64)      0         \n",
            "                                                                 \n",
            " block2_conv1 (Conv2D)       (None, 112, 112, 128)     73856     \n",
            "                                                                 \n",
            " block2_conv2 (Conv2D)       (None, 112, 112, 128)     147584    \n",
            "                                                                 \n",
            " block2_pool (MaxPooling2D)  (None, 56, 56, 128)       0         \n",
            "                                                                 \n",
            " block3_conv1 (Conv2D)       (None, 56, 56, 256)       295168    \n",
            "                                                                 \n",
            " block3_conv2 (Conv2D)       (None, 56, 56, 256)       590080    \n",
            "                                                                 \n",
            " block3_conv3 (Conv2D)       (None, 56, 56, 256)       590080    \n",
            "                                                                 \n",
            " block3_conv4 (Conv2D)       (None, 56, 56, 256)       590080    \n",
            "                                                                 \n",
            " block3_pool (MaxPooling2D)  (None, 28, 28, 256)       0         \n",
            "                                                                 \n",
            " block4_conv1 (Conv2D)       (None, 28, 28, 512)       1180160   \n",
            "                                                                 \n",
            " block4_conv2 (Conv2D)       (None, 28, 28, 512)       2359808   \n",
            "                                                                 \n",
            " block4_conv3 (Conv2D)       (None, 28, 28, 512)       2359808   \n",
            "                                                                 \n",
            " block4_conv4 (Conv2D)       (None, 28, 28, 512)       2359808   \n",
            "                                                                 \n",
            " block4_pool (MaxPooling2D)  (None, 14, 14, 512)       0         \n",
            "                                                                 \n",
            " block5_conv1 (Conv2D)       (None, 14, 14, 512)       2359808   \n",
            "                                                                 \n",
            " block5_conv2 (Conv2D)       (None, 14, 14, 512)       2359808   \n",
            "                                                                 \n",
            " block5_conv3 (Conv2D)       (None, 14, 14, 512)       2359808   \n",
            "                                                                 \n",
            " block5_conv4 (Conv2D)       (None, 14, 14, 512)       2359808   \n",
            "                                                                 \n",
            " block5_pool (MaxPooling2D)  (None, 7, 7, 512)         0         \n",
            "                                                                 \n",
            " flatten (Flatten)           (None, 25088)             0         \n",
            "                                                                 \n",
            " dense (Dense)               (None, 28)                702492    \n",
            "                                                                 \n",
            "=================================================================\n",
            "Total params: 20,726,876\n",
            "Trainable params: 702,492\n",
            "Non-trainable params: 20,024,384\n",
            "_________________________________________________________________\n"
          ]
        }
      ],
      "source": [
        "prediction = Dense(28, activation='softmax')(x)\n",
        "\n",
        "model = Model(inputs=model_VGG19.input, outputs=prediction)\n",
        "model.summary()"
      ]
    },
    {
      "cell_type": "code",
      "execution_count": null,
      "metadata": {
        "colab": {
          "base_uri": "https://localhost:8080/"
        },
        "id": "832pLExjoW8I",
        "outputId": "6c201caa-e337-42e8-f393-661819f6ebc5"
      },
      "outputs": [
        {
          "output_type": "stream",
          "name": "stdout",
          "text": [
            "Collecting keras-metrics\n",
            "  Downloading keras_metrics-1.1.0-py2.py3-none-any.whl (5.6 kB)\n",
            "Requirement already satisfied: Keras>=2.1.5 in /usr/local/lib/python3.10/dist-packages (from keras-metrics) (2.12.0)\n",
            "Installing collected packages: keras-metrics\n",
            "Successfully installed keras-metrics-1.1.0\n"
          ]
        }
      ],
      "source": [
        "!pip install keras-metrics"
      ]
    },
    {
      "cell_type": "code",
      "execution_count": null,
      "metadata": {
        "id": "1JgrLIKPobi7"
      },
      "outputs": [],
      "source": [
        "import tensorflow as tf"
      ]
    },
    {
      "cell_type": "code",
      "execution_count": null,
      "metadata": {
        "id": "3XXK5rNVoe2Y"
      },
      "outputs": [],
      "source": [
        "model.compile(\n",
        "  loss='categorical_crossentropy',\n",
        "  optimizer='adam',\n",
        "  metrics=[tf.keras.metrics.Precision(),tf.keras.metrics.Recall(),'accuracy']\n",
        ")"
      ]
    },
    {
      "cell_type": "code",
      "execution_count": null,
      "metadata": {
        "id": "rNmAdfKHojFe"
      },
      "outputs": [],
      "source": [
        "from tensorflow.keras.preprocessing.image import ImageDataGenerator\n",
        "\n",
        "train_datagen = ImageDataGenerator(rescale = 1./255,\n",
        "                                   shear_range = 0.2,\n",
        "                                   zoom_range = 0.2,\n",
        "                                   rotation_range=45,\n",
        "                                   horizontal_flip = True)\n",
        "\n",
        "test_datagen = ImageDataGenerator(rescale = 1./255)\n",
        "validation_datagen = ImageDataGenerator(rescale = 1./255)"
      ]
    },
    {
      "cell_type": "code",
      "execution_count": null,
      "metadata": {
        "colab": {
          "base_uri": "https://localhost:8080/"
        },
        "id": "PqqqHUeQokMC",
        "outputId": "fedc8511-0909-44ee-ff1e-8d3429930bea"
      },
      "outputs": [
        {
          "output_type": "stream",
          "name": "stdout",
          "text": [
            "Found 5178 images belonging to 28 classes.\n"
          ]
        }
      ],
      "source": [
        "training_set = train_datagen.flow_from_directory('/content/drive/MyDrive/ASL_Dataset/Train',\n",
        "                                                 target_size = (224, 224),\n",
        "                                                 batch_size = 16,\n",
        "                                                 class_mode = 'categorical')"
      ]
    },
    {
      "cell_type": "code",
      "execution_count": null,
      "metadata": {
        "colab": {
          "base_uri": "https://localhost:8080/"
        },
        "id": "VV4EHi_XosMi",
        "outputId": "d3c875ad-f0b9-492c-f3a2-c7b45da3862e"
      },
      "outputs": [
        {
          "output_type": "stream",
          "name": "stdout",
          "text": [
            "Found 1338 images belonging to 28 classes.\n"
          ]
        }
      ],
      "source": [
        "test_set = test_datagen.flow_from_directory('/content/drive/MyDrive/ASL_Dataset/Test',\n",
        "                                            target_size = (224, 224),\n",
        "                                            batch_size = 16,\n",
        "                                            class_mode = 'categorical')"
      ]
    },
    {
      "cell_type": "code",
      "execution_count": null,
      "metadata": {
        "colab": {
          "base_uri": "https://localhost:8080/"
        },
        "id": "DrrM64YKot2A",
        "outputId": "66347ddb-6f4d-4067-94c5-66a67daf7482"
      },
      "outputs": [
        {
          "output_type": "stream",
          "name": "stdout",
          "text": [
            "Found 1338 images belonging to 28 classes.\n"
          ]
        }
      ],
      "source": [
        "validation_set = validation_datagen.flow_from_directory('/content/drive/MyDrive/ASL_Dataset/Test',\n",
        "                                            target_size = (224, 224),\n",
        "                                            batch_size = 16,\n",
        "                                            class_mode = 'categorical')"
      ]
    },
    {
      "cell_type": "code",
      "execution_count": null,
      "metadata": {
        "colab": {
          "base_uri": "https://localhost:8080/"
        },
        "id": "-FxAgSclo2fp",
        "outputId": "0993fba8-795c-4ce7-da78-b0d1eba1c899"
      },
      "outputs": [
        {
          "output_type": "stream",
          "name": "stdout",
          "text": [
            "Epoch 1/20\n",
            "50/50 [==============================] - 522s 10s/step - loss: 3.5436 - precision: 0.6250 - recall: 0.1625 - accuracy: 0.2975 - val_loss: 1.3108 - val_precision: 0.7807 - val_recall: 0.4417 - val_accuracy: 0.6442\n",
            "Epoch 2/20\n",
            "50/50 [==============================] - 150s 3s/step - loss: 1.5664 - precision: 0.7910 - recall: 0.4400 - accuracy: 0.5850 - val_loss: 1.0522 - val_precision: 0.8295 - val_recall: 0.6435 - val_accuracy: 0.7190\n",
            "Epoch 3/20\n",
            "50/50 [==============================] - 132s 3s/step - loss: 0.8705 - precision: 0.8600 - recall: 0.6525 - accuracy: 0.7550 - val_loss: 0.6186 - val_precision: 0.9023 - val_recall: 0.7451 - val_accuracy: 0.8176\n",
            "Epoch 4/20\n",
            "50/50 [==============================] - 119s 2s/step - loss: 0.6258 - precision: 0.9197 - recall: 0.7645 - accuracy: 0.8375 - val_loss: 0.3493 - val_precision: 0.9441 - val_recall: 0.8587 - val_accuracy: 0.8984\n",
            "Epoch 5/20\n",
            "50/50 [==============================] - 106s 2s/step - loss: 0.4955 - precision: 0.9213 - recall: 0.8050 - accuracy: 0.8625 - val_loss: 0.3887 - val_precision: 0.9515 - val_recall: 0.8647 - val_accuracy: 0.9013\n",
            "Epoch 6/20\n",
            "50/50 [==============================] - 93s 2s/step - loss: 0.5396 - precision: 0.9070 - recall: 0.8288 - accuracy: 0.8600 - val_loss: 0.4283 - val_precision: 0.9698 - val_recall: 0.8632 - val_accuracy: 0.8901\n",
            "Epoch 7/20\n",
            "50/50 [==============================] - 74s 1s/step - loss: 0.3141 - precision: 0.9430 - recall: 0.8753 - accuracy: 0.9055 - val_loss: 0.1963 - val_precision: 0.9700 - val_recall: 0.9425 - val_accuracy: 0.9589\n",
            "Epoch 8/20\n",
            "50/50 [==============================] - 70s 1s/step - loss: 0.2100 - precision: 0.9694 - recall: 0.9112 - accuracy: 0.9413 - val_loss: 0.0954 - val_precision: 0.9970 - val_recall: 0.9776 - val_accuracy: 0.9865\n",
            "Epoch 9/20\n",
            "50/50 [==============================] - 63s 1s/step - loss: 0.1532 - precision: 0.9779 - recall: 0.9388 - accuracy: 0.9600 - val_loss: 0.2031 - val_precision: 0.9625 - val_recall: 0.9200 - val_accuracy: 0.9380\n",
            "Epoch 10/20\n",
            "50/50 [==============================] - 57s 1s/step - loss: 0.1912 - precision: 0.9672 - recall: 0.9212 - accuracy: 0.9463 - val_loss: 0.1441 - val_precision: 0.9681 - val_recall: 0.9514 - val_accuracy: 0.9559\n",
            "Epoch 11/20\n",
            "50/50 [==============================] - 50s 1s/step - loss: 0.1687 - precision: 0.9728 - recall: 0.9388 - accuracy: 0.9538 - val_loss: 0.0880 - val_precision: 0.9887 - val_recall: 0.9791 - val_accuracy: 0.9828\n",
            "Epoch 12/20\n",
            "50/50 [==============================] - 47s 942ms/step - loss: 0.1431 - precision: 0.9667 - recall: 0.9438 - accuracy: 0.9538 - val_loss: 0.0929 - val_precision: 0.9863 - val_recall: 0.9694 - val_accuracy: 0.9776\n",
            "Epoch 13/20\n",
            "50/50 [==============================] - 43s 858ms/step - loss: 0.1533 - precision: 0.9779 - recall: 0.9400 - accuracy: 0.9588 - val_loss: 0.1023 - val_precision: 0.9825 - val_recall: 0.9664 - val_accuracy: 0.9753\n",
            "Epoch 14/20\n",
            "50/50 [==============================] - 38s 776ms/step - loss: 0.1138 - precision: 0.9708 - recall: 0.9575 - accuracy: 0.9650 - val_loss: 0.0669 - val_precision: 0.9895 - val_recall: 0.9821 - val_accuracy: 0.9836\n",
            "Epoch 15/20\n",
            "50/50 [==============================] - 41s 817ms/step - loss: 0.1233 - precision: 0.9672 - recall: 0.9575 - accuracy: 0.9638 - val_loss: 0.0513 - val_precision: 0.9977 - val_recall: 0.9836 - val_accuracy: 0.9903\n",
            "Epoch 16/20\n",
            "50/50 [==============================] - 36s 730ms/step - loss: 0.0862 - precision: 0.9848 - recall: 0.9688 - accuracy: 0.9775 - val_loss: 0.0770 - val_precision: 0.9901 - val_recall: 0.9694 - val_accuracy: 0.9761\n",
            "Epoch 17/20\n",
            "50/50 [==============================] - 33s 669ms/step - loss: 0.1544 - precision: 0.9567 - recall: 0.9400 - accuracy: 0.9488 - val_loss: 0.0474 - val_precision: 0.9903 - val_recall: 0.9888 - val_accuracy: 0.9903\n",
            "Epoch 18/20\n",
            "50/50 [==============================] - 31s 635ms/step - loss: 0.1686 - precision: 0.9591 - recall: 0.9388 - accuracy: 0.9450 - val_loss: 0.0672 - val_precision: 0.9864 - val_recall: 0.9768 - val_accuracy: 0.9821\n",
            "Epoch 19/20\n",
            "50/50 [==============================] - 31s 621ms/step - loss: 0.1841 - precision: 0.9627 - recall: 0.9362 - accuracy: 0.9500 - val_loss: 0.0477 - val_precision: 0.9925 - val_recall: 0.9895 - val_accuracy: 0.9925\n",
            "Epoch 20/20\n",
            "50/50 [==============================] - 28s 561ms/step - loss: 0.1547 - precision: 0.9708 - recall: 0.9575 - accuracy: 0.9638 - val_loss: 0.1985 - val_precision: 0.9661 - val_recall: 0.9574 - val_accuracy: 0.9604\n"
          ]
        }
      ],
      "source": [
        "# Assuming you have already defined and initialized your 'model', 'training_set', and 'test_set' variables\n",
        "\n",
        "# Set the number of steps per epoch\n",
        "STEPS_PER_EPOCH = 50\n",
        "\n",
        "# Fit the model\n",
        "history = model.fit(\n",
        "    training_set,\n",
        "    validation_data=test_set,\n",
        "    epochs=20,\n",
        "    steps_per_epoch=STEPS_PER_EPOCH,\n",
        "    validation_steps=len(test_set),\n",
        "    shuffle=True,\n",
        "    verbose=1\n",
        ")"
      ]
    },
    {
      "cell_type": "code",
      "execution_count": null,
      "metadata": {
        "id": "kZa17R7Oo7r7",
        "colab": {
          "base_uri": "https://localhost:8080/"
        },
        "outputId": "701cba42-9f96-4f29-ddfb-778ce7dbd94d"
      },
      "outputs": [
        {
          "output_type": "stream",
          "name": "stdout",
          "text": [
            "Accuracy: 96.606332%\n"
          ]
        }
      ],
      "source": [
        " score = model.evaluate(test_set,verbose=0)\n",
        " print('Accuracy: %2f%%'%(score[1]*100))"
      ]
    },
    {
      "cell_type": "code",
      "execution_count": null,
      "metadata": {
        "id": "PJEA4c9Zo8vZ",
        "colab": {
          "base_uri": "https://localhost:8080/",
          "height": 407
        },
        "outputId": "ce265217-ceac-4c4f-a2e6-98c12ad23e2d"
      },
      "outputs": [
        {
          "output_type": "display_data",
          "data": {
            "text/plain": [
              "<Figure size 800x400 with 2 Axes>"
            ],
            "image/png": "[encoded data removed]"
          },
          "metadata": {}
        }
      ],
      "source": [
        "fig, axes = plt.subplots(nrows=1, ncols=2, figsize=(8,4))\n",
        "#plot training and validation accuracy values\n",
        "axes[0].set_ylim(0,1)\n",
        "axes[0].plot(history.history['accuracy'], label='Train')\n",
        "axes[0].plot(history.history['val_accuracy'], label='Validation')\n",
        "axes[0].set_title('Model Accuracy')\n",
        "axes[0].set_xlabel('Epoch')\n",
        "axes[0].set_ylabel('Accuracy')\n",
        "axes[0].legend()\n",
        "#plot training and validation loss values\n",
        "#axes[1].set_ylim(0,1)\n",
        "axes[1].plot(history.history['loss'], label='Train')\n",
        "axes[1].plot(history.history['val_loss'], label='Validation')\n",
        "axes[1].set_title('Model Loss')\n",
        "axes[1].set_xlabel('Epoch')\n",
        "axes[1].set_ylabel('Loss')\n",
        "axes[1].legend()\n",
        "plt.tight_layout()\n",
        "plt.show()"
      ]
    },
    {
      "cell_type": "code",
      "execution_count": null,
      "metadata": {
        "id": "F6GA2DiYpB_E",
        "colab": {
          "base_uri": "https://localhost:8080/"
        },
        "outputId": "2ace3873-4d00-44f4-f0f0-5327e0d67d1d"
      },
      "outputs": [
        {
          "output_type": "stream",
          "name": "stdout",
          "text": [
            "84/84 [==============================] - 12s 132ms/step\n",
            "[19  9  2 ... 15 22 26]\n",
            "Confusion Matrix\n",
            "[[0 0 4 5 2 0 1 3 0 1 3 0 2 1 2 1 2 1 4 4 1 1 4 1 1 6 3 0]\n",
            " [4 0 1 0 3 0 3 2 4 3 1 0 1 2 2 2 0 1 0 1 3 0 1 1 0 3 2 2]\n",
            " [6 1 1 1 3 0 0 1 2 0 5 2 1 2 0 2 0 0 1 0 0 2 4 0 3 2 2 5]\n",
            " [4 4 4 1 2 0 0 1 3 2 0 2 2 1 2 1 1 3 1 1 4 0 2 3 3 4 2 5]\n",
            " [6 2 1 1 1 0 1 2 2 3 1 3 3 2 0 1 2 2 1 1 0 0 2 0 0 2 3 6]\n",
            " [0 0 0 0 0 0 0 0 1 0 0 0 0 0 0 0 1 0 0 0 0 0 0 0 0 1 1 0]\n",
            " [1 3 1 2 0 0 3 4 2 2 0 2 2 1 1 1 0 1 2 2 1 0 1 0 1 1 1 5]\n",
            " [2 1 5 3 4 0 1 3 1 1 2 1 3 0 1 0 1 2 2 0 1 0 2 1 1 3 1 2]\n",
            " [1 0 1 1 3 1 1 0 1 1 1 5 1 1 3 2 2 0 1 0 1 1 0 1 1 6 3 5]\n",
            " [2 1 2 3 0 1 3 0 1 1 0 0 2 3 0 3 0 4 2 2 0 0 3 6 2 5 2 3]\n",
            " [1 3 2 2 0 0 1 2 0 2 3 4 1 2 0 0 1 0 4 1 0 0 2 1 2 2 0 1]\n",
            " [3 1 0 2 0 0 1 2 1 2 3 1 0 0 1 2 1 2 2 2 1 0 3 1 1 4 3 3]\n",
            " [0 0 2 6 0 0 1 1 1 2 1 1 0 2 0 3 0 3 4 1 1 0 2 2 0 2 3 5]\n",
            " [3 1 1 0 1 1 0 2 3 2 0 0 3 0 0 1 0 4 2 1 2 1 2 2 4 1 1 3]\n",
            " [1 3 1 0 0 0 2 0 0 1 1 0 2 0 1 1 1 4 0 1 0 0 1 2 0 4 1 3]\n",
            " [1 0 2 2 1 0 1 1 0 3 4 0 0 1 0 4 1 0 3 5 1 0 1 2 4 2 3 2]\n",
            " [2 1 3 0 1 0 1 1 1 1 2 3 0 0 1 2 1 2 0 1 5 0 1 1 0 3 2 3]\n",
            " [1 2 0 5 2 0 2 4 2 0 1 1 1 1 2 0 3 0 3 2 1 0 3 2 5 3 4 2]\n",
            " [5 1 0 1 3 0 2 0 1 3 0 0 3 4 2 0 4 0 0 1 1 0 4 2 2 2 7 2]\n",
            " [1 0 3 5 4 0 2 7 3 1 0 0 0 2 0 0 0 4 0 0 0 0 1 0 2 5 2 6]\n",
            " [1 2 3 1 2 0 1 0 2 5 0 1 0 1 2 0 3 3 0 3 3 0 0 0 3 1 3 2]\n",
            " [3 1 1 3 4 1 2 1 1 4 0 1 0 2 0 1 2 4 3 2 1 0 1 0 1 5 5 5]\n",
            " [4 3 2 3 1 0 2 1 3 3 1 3 0 2 2 3 0 3 3 3 0 1 2 4 0 3 2 0]\n",
            " [2 4 0 0 0 0 0 0 1 1 2 0 2 1 1 2 1 1 4 2 0 0 0 3 3 4 1 5]\n",
            " [3 1 1 1 3 0 0 4 1 3 0 3 1 4 2 3 1 2 2 0 3 0 4 0 1 5 5 3]\n",
            " [5 2 1 3 3 0 3 1 1 4 1 1 3 2 1 5 3 1 1 3 1 0 1 2 8 5 9 3]\n",
            " [3 2 4 2 2 0 5 1 3 4 0 5 5 2 1 0 4 3 3 3 4 3 4 0 4 2 5 2]\n",
            " [5 3 1 5 3 0 1 0 3 1 5 3 4 3 3 4 3 2 2 5 7 0 3 3 4 4 6 5]]\n",
            "Classification Report\n",
            "              precision    recall  f1-score   support\n",
            "\n",
            "           0       0.00      0.00      0.00        53\n",
            "           1       0.00      0.00      0.00        42\n",
            "           2       0.02      0.02      0.02        46\n",
            "           3       0.02      0.02      0.02        58\n",
            "           4       0.02      0.02      0.02        48\n",
            "           5       0.00      0.00      0.00         4\n",
            "           6       0.07      0.07      0.07        40\n",
            "           7       0.07      0.07      0.07        44\n",
            "           8       0.02      0.02      0.02        44\n",
            "           9       0.02      0.02      0.02        51\n",
            "          10       0.08      0.08      0.08        37\n",
            "          11       0.02      0.02      0.02        42\n",
            "          12       0.00      0.00      0.00        43\n",
            "          13       0.00      0.00      0.00        41\n",
            "          14       0.03      0.03      0.03        30\n",
            "          15       0.09      0.09      0.09        44\n",
            "          16       0.03      0.03      0.03        38\n",
            "          17       0.00      0.00      0.00        52\n",
            "          18       0.00      0.00      0.00        50\n",
            "          19       0.00      0.00      0.00        48\n",
            "          20       0.07      0.07      0.07        42\n",
            "          21       0.00      0.00      0.00        54\n",
            "          22       0.04      0.04      0.04        54\n",
            "          23       0.07      0.07      0.07        40\n",
            "          24       0.02      0.02      0.02        56\n",
            "          25       0.06      0.07      0.06        73\n",
            "          26       0.06      0.07      0.06        76\n",
            "          27       0.06      0.06      0.06        88\n",
            "\n",
            "    accuracy                           0.03      1338\n",
            "   macro avg       0.03      0.03      0.03      1338\n",
            "weighted avg       0.03      0.03      0.03      1338\n",
            "\n"
          ]
        }
      ],
      "source": [
        "#predict model\n",
        "y_pred = model.predict(validation_set)\n",
        "y_pred =  np.argmax(y_pred,axis=1)\n",
        "\n",
        "print(y_pred)\n",
        "#Confusion Matrix\n",
        "from sklearn.metrics import confusion_matrix\n",
        "batch_size = 100\n",
        "target_names = ['free', 'diseases']\n",
        "\n",
        "import sklearn.metrics as metrics\n",
        "print('Confusion Matrix')\n",
        "cm = metrics.confusion_matrix(validation_set.classes, y_pred)\n",
        "print(cm)\n",
        "print('Classification Report')\n",
        "print(metrics.classification_report(validation_set.classes, y_pred))"
      ]
    },
    {
      "cell_type": "code",
      "execution_count": null,
      "metadata": {
        "id": "oeK3JpDipPUL",
        "colab": {
          "base_uri": "https://localhost:8080/"
        },
        "outputId": "a74129a5-edd2-4681-8401-0db2386d7118"
      },
      "outputs": [
        {
          "output_type": "stream",
          "name": "stdout",
          "text": [
            "Rec=   50.00\n",
            "Spe=   50.00\n",
            "Pre=   50.00\n",
            "FPR=   50.00\n",
            "FNR=   50.00\n",
            "NPV=   50.00\n",
            "FDR=   50.00\n",
            "F1=    49.49\n",
            "ACC=   50.00\n",
            "MAE=   50.00\n",
            "RMSE=  70.71\n"
          ]
        }
      ],
      "source": [
        "import numpy as np\n",
        "import sklearn.metrics as metrics\n",
        "\n",
        "def sensitivity(TPR):\n",
        "    return np.mean(TPR)\n",
        "\n",
        "def specificity(TNR):\n",
        "    return np.mean(TNR)\n",
        "\n",
        "def precision(PPV):\n",
        "    return np.mean(PPV)\n",
        "\n",
        "# Assuming you have already defined 'y_true' and 'y_pred' variables\n",
        "# 'y_true' contains the true class labels and 'y_pred' contains the predicted class labels\n",
        "\n",
        "# Sample data (replace this with your actual data)\n",
        "y_true = [1, 0, 1, 0, 1, 1, 0, 0, 1, 0]\n",
        "y_pred = [1, 1, 1, 0, 1, 0, 0, 1, 0, 1]\n",
        "\n",
        "# Calculate the confusion matrix\n",
        "cm = metrics.confusion_matrix(y_true, y_pred)\n",
        "\n",
        "FP = cm.sum(axis=0) - np.diag(cm)\n",
        "FN = cm.sum(axis=1) - np.diag(cm)\n",
        "TP = np.diag(cm)\n",
        "TN = len(y_true) - (FP + FN + TP)\n",
        "\n",
        "# Calculate sensitivity (True Positive Rate)\n",
        "TPR = TP / (TP + FN)\n",
        "\n",
        "# Calculate specificity (True Negative Rate)\n",
        "TNR = TN / (TN + FP)\n",
        "\n",
        "# Calculate precision (Positive Predictive Value)\n",
        "PPV = TP / (TP + FP)\n",
        "\n",
        "# Calculate false positive rate (False Alarm Rate)\n",
        "FPR = FP / (FP + TN)\n",
        "\n",
        "# Calculate false negative rate (Miss Rate)\n",
        "FNR = FN / (FN + TP)\n",
        "\n",
        "# Calculate negative predictive value\n",
        "NPV = TN / (TN + FN)\n",
        "\n",
        "# Calculate false discovery rate\n",
        "FDR = FP / (FP + TP)\n",
        "\n",
        "# Calculate F1 score\n",
        "F1 = 2 * TP / (2 * TP + FP + FN)\n",
        "\n",
        "ACC = (TP + TN) / (TP + FP + FN + TN)\n",
        "\n",
        "# Calculate mean absolute error\n",
        "MAE = metrics.mean_absolute_error(y_true, y_pred)\n",
        "\n",
        "# Calculate root mean squared error\n",
        "RMSE = np.sqrt(metrics.mean_squared_error(y_true, y_pred))\n",
        "\n",
        "# Print the results\n",
        "print(\"Rec=   {:.2f}\".format(sensitivity(TPR) * 100))\n",
        "print(\"Spe=   {:.2f}\".format(specificity(TNR) * 100))\n",
        "print(\"Pre=   {:.2f}\".format(precision(PPV) * 100))\n",
        "print(\"FPR=   {:.2f}\".format(np.mean(FPR) * 100))\n",
        "print(\"FNR=   {:.2f}\".format(np.mean(FNR) * 100))\n",
        "print(\"NPV=   {:.2f}\".format(np.mean(NPV) * 100))\n",
        "print(\"FDR=   {:.2f}\".format(np.mean(FDR) * 100))\n",
        "print(\"F1=    {:.2f}\".format(np.mean(F1) * 100))\n",
        "print(\"ACC=   {:.2f}\".format(np.mean(ACC) * 100))\n",
        "print(\"MAE=   {:.2f}\".format(MAE * 100))\n",
        "print(\"RMSE=  {:.2f}\".format(RMSE * 100))"
      ]
    }
  ],
  "metadata": {
    "accelerator": "GPU",
    "colab": {
      "provenance": [],
      "include_colab_link": true
    },
    "kernelspec": {
      "display_name": "Python 3",
      "name": "python3"
    },
    "language_info": {
      "name": "python"
    }
  },
  "nbformat": 4,
  "nbformat_minor": 0
}